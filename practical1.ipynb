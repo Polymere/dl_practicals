{
 "cells": [
  {
   "cell_type": "markdown",
   "metadata": {},
   "source": [
    "# Practical 1\n",
    "https://fleuret.org/ee559/ee559-practical-1.pdf"
   ]
  },
  {
   "cell_type": "code",
   "execution_count": 1,
   "metadata": {},
   "outputs": [],
   "source": [
    "import torch\n",
    "import time\n",
    "import numpy as np"
   ]
  },
  {
   "cell_type": "markdown",
   "metadata": {},
   "source": [
    "## 1 Creating a garbage tensor\n",
    "We test different approach to slicing operators:\n",
    "1. Addition : add 1d tensor to a slice (line or column)\n",
    "    - The 1d tensor is automatically broadcasted to the convenient configuration (eg. does not matter if line or column) (#3,#5)\n",
    "2. Assigning : replace the value\n",
    "   - 1D tensor ( #2, #4) \n",
    "   -  Select (dim,index) (#5)\n",
    "   - narrow (dim,start,lenght) (#9,#10)\n",
    "3. Incrementation (+=)with a constant (#1)\n",
    "    - Does not work with a 1d tensor (no broadcast?)\n",
    "4. Multiplication\n",
    "    - Works with a tensor #8\n",
    "    - a constant #9, #10\n",
    "5. Using the subtensor (narrow)\n",
    "    - Difference between sliced tensor (d[...]) and narrow (new tensor). We can't change the value in the new tensor and expect a change in the new one !\n",
    "    - Broadcasted to good dimensions ( #10)\n",
    "\n"
   ]
  },
  {
   "cell_type": "code",
   "execution_count": 158,
   "metadata": {},
   "outputs": [],
   "source": [
    "d=torch.ones(13,13)\n",
    "l2=torch.full((1,13),2)\n",
    "l1=torch.full((1,13),1)\n",
    "c3=torch.full((2,2),3)\n",
    "d[1]+=1                  #1\n",
    "d[:,1]=l2                #2\n",
    "d[6]=d[6]+l1             #3\n",
    "d[:,6]=d[6]              #4\n",
    "d[11]=d[11]+l1           #5\n",
    "d[:,11]=d.select(0,11)   #6\n",
    "d[3:5,3:5]=c3            #7\n",
    "d[8:10,3:5]=d[8:10,3:5]*c3#8\n",
    "d[8:10,8:10]=3*d.narrow(0,8,2).narrow(1,8,2) #9\n",
    "d[3:5,8:10]=l1.narrow(1,0,2)*3 #10\n",
    "\n"
   ]
  },
  {
   "cell_type": "code",
   "execution_count": 161,
   "metadata": {},
   "outputs": [
    {
     "data": {
      "text/plain": [
       "tensor([[1., 2., 1., 1., 1., 1., 2., 1., 1., 1., 1., 2., 1.],\n",
       "        [2., 2., 2., 2., 2., 2., 3., 2., 2., 2., 2., 3., 2.],\n",
       "        [1., 2., 1., 1., 1., 1., 2., 1., 1., 1., 1., 2., 1.],\n",
       "        [1., 2., 1., 3., 3., 1., 2., 1., 3., 3., 1., 2., 1.],\n",
       "        [1., 2., 1., 3., 3., 1., 2., 1., 3., 3., 1., 2., 1.],\n",
       "        [1., 2., 1., 1., 1., 1., 2., 1., 1., 1., 1., 2., 1.],\n",
       "        [2., 3., 2., 2., 2., 2., 2., 2., 2., 2., 2., 3., 2.],\n",
       "        [1., 2., 1., 1., 1., 1., 2., 1., 1., 1., 1., 2., 1.],\n",
       "        [1., 2., 1., 3., 3., 1., 2., 1., 3., 3., 1., 2., 1.],\n",
       "        [1., 2., 1., 3., 3., 1., 2., 1., 3., 3., 1., 2., 1.],\n",
       "        [1., 2., 1., 1., 1., 1., 2., 1., 1., 1., 1., 2., 1.],\n",
       "        [2., 3., 2., 2., 2., 2., 3., 2., 2., 2., 2., 2., 2.],\n",
       "        [1., 2., 1., 1., 1., 1., 2., 1., 1., 1., 1., 2., 1.]])"
      ]
     },
     "execution_count": 161,
     "metadata": {},
     "output_type": "execute_result"
    }
   ],
   "source": [
    "d"
   ]
  },
  {
   "cell_type": "markdown",
   "metadata": {},
   "source": [
    "## 2 Eigendecomposition"
   ]
  },
  {
   "cell_type": "code",
   "execution_count": 2,
   "metadata": {},
   "outputs": [
    {
     "data": {
      "text/plain": [
       "(tensor([[ 5.3293,  0.0000],\n",
       "         [ 4.6553,  1.8756],\n",
       "         [ 4.6553, -1.8756],\n",
       "         [-0.7595,  3.9994],\n",
       "         [-0.7595, -3.9994],\n",
       "         [ 0.1258,  3.6287],\n",
       "         [ 0.1258, -3.6287],\n",
       "         [-3.9391,  1.5210],\n",
       "         [-3.9391, -1.5210],\n",
       "         [ 2.7112,  0.0000],\n",
       "         [ 1.7258,  1.8512],\n",
       "         [ 1.7258, -1.8512],\n",
       "         [-2.9447,  1.3800],\n",
       "         [-2.9447, -1.3800],\n",
       "         [-2.2245,  1.0430],\n",
       "         [-2.2245, -1.0430],\n",
       "         [ 0.7441,  1.1303],\n",
       "         [ 0.7441, -1.1303],\n",
       "         [-1.5948,  0.0000],\n",
       "         [ 0.2306,  0.0000]]), tensor([]))"
      ]
     },
     "execution_count": 2,
     "metadata": {},
     "output_type": "execute_result"
    }
   ],
   "source": [
    "mean=torch.zeros((20,20))\n",
    "std=torch.ones((20,20))\n",
    "d=torch.normal(mean,std)\n",
    "eig=torch.eig(d)\n",
    "eig"
   ]
  },
  {
   "cell_type": "markdown",
   "metadata": {},
   "source": [
    "## 3 Flops per second\n",
    "Best complexity for NxN matricial product = n^2.37 (coppersmith-winograd algo)"
   ]
  },
  {
   "cell_type": "code",
   "execution_count": 2,
   "metadata": {},
   "outputs": [
    {
     "name": "stdout",
     "output_type": "stream",
     "text": [
      "0.7844509230008043 seconds elapsed\n"
     ]
    }
   ],
   "source": [
    "size=5000\n",
    "mean=torch.zeros((size,size))\n",
    "std=torch.ones((size,size))\n",
    "m1=torch.normal(mean,std)\n",
    "m2=torch.normal(mean,std)\n",
    "t1=time.perf_counter()\n",
    "prod=torch.mm(m1,m2)\n",
    "tf=time.perf_counter()-t1\n",
    "print(tf, \"seconds elapsed\")"
   ]
  },
  {
   "cell_type": "code",
   "execution_count": 60,
   "metadata": {},
   "outputs": [
    {
     "name": "stdout",
     "output_type": "stream",
     "text": [
      "0.7844509230008043 seconds 584196445 operations, 744 Mflops\n"
     ]
    }
   ],
   "source": [
    "complexity=pow(size,2.37)\n",
    "flop=complexity/tf\n",
    "print (tf,\"seconds\",int(complexity),\"operations,\",int(flop/1000000),\"Mflops\")"
   ]
  },
  {
   "cell_type": "markdown",
   "metadata": {},
   "source": [
    "## 4 Playing with strides\n",
    "\n",
    "We evaluate 3 different methods for multiplexing a tensor:\n",
    "1. Multiply each row by its index+1 (with a for loop)\n",
    "2. Add the previous row with the first row (with for loop)\n",
    "3. Element-wise multiplication with a tensor formed by the row indices"
   ]
  },
  {
   "cell_type": "code",
   "execution_count": 54,
   "metadata": {},
   "outputs": [],
   "source": [
    "def mul_row(tensor):\n",
    "    row,col=tensor.size()\n",
    "    for id_row in range(row):\n",
    "        tensor[id_row]=tensor[id_row]*(id_row+1)\n",
    "    return tensor\n",
    "def mul_row_add(tensor):\n",
    "    row,col=tensor.size()\n",
    "    for id_row in range(1,row):\n",
    "        tensor[id_row]=tensor[id_row-1]+tensor[0]\n",
    "    return tensor\n",
    "def mul_row_fast(tensor):\n",
    "    row,col=tensor.size()\n",
    "    mul_coeff=torch.arange(1.,float(row+1)).view(row,1).expand(row,col)\n",
    "    return tensor*mul_coeff\n",
    "    \n",
    "d=torch.full((1000,400),2)"
   ]
  },
  {
   "cell_type": "code",
   "execution_count": 56,
   "metadata": {},
   "outputs": [],
   "source": [
    "t1=time.perf_counter()\n",
    "res=mul_row(d)\n",
    "t_line=time.perf_counter()-t1"
   ]
  },
  {
   "cell_type": "code",
   "execution_count": 51,
   "metadata": {},
   "outputs": [],
   "source": [
    "t1=time.perf_counter()\n",
    "res=mul_row_add(d)\n",
    "t_add=time.perf_counter()-t1\n"
   ]
  },
  {
   "cell_type": "code",
   "execution_count": 57,
   "metadata": {},
   "outputs": [],
   "source": [
    "t1=time.perf_counter()\n",
    "res=mul_row_fast(d)\n",
    "t_fast=time.perf_counter()-t1"
   ]
  },
  {
   "cell_type": "code",
   "execution_count": 59,
   "metadata": {},
   "outputs": [
    {
     "name": "stdout",
     "output_type": "stream",
     "text": [
      "Linewise multiplication in  17027  useconds. \n",
      "Linewise addition in  13505  useconds. \n",
      "Fast multiplex in  800 useconds\n"
     ]
    }
   ],
   "source": [
    "print(\"Linewise multiplication in \",int(t_line*1e6),\" useconds. \\nLinewise addition in \",int(t_add*1e6),\" useconds. \\nFast multiplex in \",int(t_fast*1e6),\"useconds\")"
   ]
  }
 ],
 "metadata": {
  "kernelspec": {
   "display_name": "Python 3",
   "language": "python",
   "name": "python3"
  },
  "language_info": {
   "codemirror_mode": {
    "name": "ipython",
    "version": 3
   },
   "file_extension": ".py",
   "mimetype": "text/x-python",
   "name": "python",
   "nbconvert_exporter": "python",
   "pygments_lexer": "ipython3",
   "version": "3.7.2"
  }
 },
 "nbformat": 4,
 "nbformat_minor": 2
}
