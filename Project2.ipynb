{
 "cells": [
  {
   "cell_type": "markdown",
   "metadata": {},
   "source": [
    "# Project 2: Mini deep-learning framework\n",
    "\n",
    "https://fleuret.org/ee559/ee559-miniprojects.pdf\n",
    "    \n",
    "https://www.overleaf.com/8773141819qyxryzqggdnn"
   ]
  },
  {
   "cell_type": "code",
   "execution_count": 89,
   "metadata": {},
   "outputs": [],
   "source": [
    "from torch import tensor,set_grad_enabled,empty,float32,ones\n",
    "set_grad_enabled(False);\n",
    "import matplotlib.pyplot as plt"
   ]
  },
  {
   "cell_type": "code",
   "execution_count": 5,
   "metadata": {},
   "outputs": [
    {
     "data": {
      "text/plain": [
       "tensor([1, 1])"
      ]
     },
     "execution_count": 5,
     "metadata": {},
     "output_type": "execute_result"
    }
   ],
   "source": [
    "t=tensor([-1,1])\n",
    "t.rel"
   ]
  },
  {
   "cell_type": "code",
   "execution_count": 129,
   "metadata": {},
   "outputs": [],
   "source": [
    "class myLayer:\n",
    "    def __init__(self,activation,shape,bias):\n",
    "        self.weights=self._init_weights(shape)\n",
    "        self.bias=self._init_bias(bias,shape[0])\n",
    "        self._thr_func=activation\n",
    "        \n",
    "    def bckwrd(self,prev_delta,prev_act):\n",
    "        resp=(self.weights*prev_delta+self.bias.view(-1)).sum(1)\n",
    "        return self._der_thr(prev_act)*resp\n",
    "\n",
    "    def frwrd(self,prev_input):\n",
    "        return self._thr((self.weights*prev_input+self.bias.view(-1)).sum(1))\n",
    "    \n",
    "    def updt_weights(self,err,act,gamma):\n",
    "        print(self.weights)\n",
    "        self.weights=self.weights-gamma*err*act\n",
    "        print(self.weights)\n",
    "    def _init_weights(self,sz):\n",
    "        return ones((sz[0],sz[1]),dtype=float32)\n",
    "    def _init_bias(self,bias_val,sz):\n",
    "        return bias_val*ones((sz,1),dtype=float32)\n",
    "    def _thr(self,tens):\n",
    "        if self._thr_func==\"relu\":\n",
    "            return tens*(tens>0).float()\n",
    "        elif self._thr_func==\"tanh\":\n",
    "            return tens.tanh()\n",
    "    def _der_thr(self,tens):\n",
    "        if self._thr_func==\"relu\":\n",
    "            return 1*(tens>0).float()\n",
    "        elif self._thr_func==\"tanh\":\n",
    "            return 1-(tens.tanh())^2\n",
    "\n",
    "class myNetwork:\n",
    "    def __init__(self):\n",
    "        self.layers=[]\n",
    "        self.weights=[]\n",
    "        self.lr=0.001\n",
    "    def add_layer(self,activation,shape,bias_val):\n",
    "        self.layers.append(myLayer(activation,shape,bias_val))\n",
    "        \n",
    "    def weights_as_image(self):\n",
    "        for lay in self.layers:\n",
    "            plt.imshow(lay.weights)\n",
    "    def weights_values(self):\n",
    "        print(\"\\n**************\")\n",
    "        for lay in self.layers:\n",
    "            print(lay.weights)\n",
    "            \n",
    "    def forward(self,x):\n",
    "        prev_input=x\n",
    "        activities=[]\n",
    "        for lay in self.layers:\n",
    "            prev_input=lay.frwrd(prev_input)\n",
    "            activities.append(prev_input)\n",
    "        return activities\n",
    "    def err(self,y,yhat,kind=\"rms\"):\n",
    "        if kind==\"rms\":\n",
    "            return (y**2-yhat**2).sum()\n",
    "    def backward(self,err,activities):\n",
    "        delta_lay=err\n",
    "        for lay,act in zip(reversed(self.layers),reversed(activities)):\n",
    "            lay.updt_weights(delta_lay,act,self.lr)\n",
    "            delta_lay=lay.bckwrd(delta_lay,act)\n",
    "        return delta_lay\n",
    "    \n",
    "\n",
    "\n",
    "                          "
   ]
  },
  {
   "cell_type": "code",
   "execution_count": 128,
   "metadata": {},
   "outputs": [
    {
     "name": "stdout",
     "output_type": "stream",
     "text": [
      "tensor([[1., 1., 1.],\n",
      "        [1., 1., 1.],\n",
      "        [1., 1., 1.]])\n",
      "tensor([[1.5280, 1.5280, 1.5280],\n",
      "        [1.5280, 1.5280, 1.5280],\n",
      "        [1.5280, 1.5280, 1.5280]])\n",
      "tensor([[1., 1., 1.],\n",
      "        [1., 1., 1.],\n",
      "        [1., 1., 1.]])\n",
      "tensor([[1.8068, 1.8068, 1.8068],\n",
      "        [1.8068, 1.8068, 1.8068],\n",
      "        [1.8068, 1.8068, 1.8068]])\n",
      "-803.15771484375\n",
      "tensor([[1.5280, 1.5280, 1.5280],\n",
      "        [1.5280, 1.5280, 1.5280],\n",
      "        [1.5280, 1.5280, 1.5280]])\n",
      "tensor([[14.8320, 14.8320, 14.8320],\n",
      "        [14.8320, 14.8320, 14.8320],\n",
      "        [14.8320, 14.8320, 14.8320]])\n",
      "tensor([[1.8068, 1.8068, 1.8068],\n",
      "        [1.8068, 1.8068, 1.8068],\n",
      "        [1.8068, 1.8068, 1.8068]])\n",
      "tensor([[130.9459, 130.9459, 130.9459],\n",
      "        [130.9459, 130.9459, 130.9459],\n",
      "        [130.9459, 130.9459, 130.9459]])\n",
      "-407385792.0\n",
      "tensor([[14.8320, 14.8320, 14.8320],\n",
      "        [14.8320, 14.8320, 14.8320],\n",
      "        [14.8320, 14.8320, 14.8320]])\n",
      "tensor([[4.7473e+09, 4.7473e+09, 4.7473e+09],\n",
      "        [4.7473e+09, 4.7473e+09, 4.7473e+09],\n",
      "        [4.7473e+09, 4.7473e+09, 4.7473e+09]])\n",
      "tensor([[130.9459, 130.9459, 130.9459],\n",
      "        [130.9459, 130.9459, 130.9459],\n",
      "        [130.9459, 130.9459, 130.9459]])\n",
      "tensor([[1.5195e+18, 1.5195e+18, 1.5195e+18],\n",
      "        [1.5195e+18, 1.5195e+18, 1.5195e+18],\n",
      "        [1.5195e+18, 1.5195e+18, 1.5195e+18]])\n",
      "-inf\n",
      "tensor([[4.7473e+09, 4.7473e+09, 4.7473e+09],\n",
      "        [4.7473e+09, 4.7473e+09, 4.7473e+09],\n",
      "        [4.7473e+09, 4.7473e+09, 4.7473e+09]])\n",
      "tensor([[inf, inf, inf],\n",
      "        [inf, inf, inf],\n",
      "        [inf, inf, inf]])\n",
      "tensor([[1.5195e+18, 1.5195e+18, 1.5195e+18],\n",
      "        [1.5195e+18, 1.5195e+18, 1.5195e+18],\n",
      "        [1.5195e+18, 1.5195e+18, 1.5195e+18]])\n",
      "tensor([[inf, inf, inf],\n",
      "        [inf, inf, inf],\n",
      "        [inf, inf, inf]])\n",
      "nan\n",
      "tensor([[inf, inf, inf],\n",
      "        [inf, inf, inf],\n",
      "        [inf, inf, inf]])\n",
      "tensor([[nan, nan, nan],\n",
      "        [nan, nan, nan],\n",
      "        [nan, nan, nan]])\n",
      "tensor([[inf, inf, inf],\n",
      "        [inf, inf, inf],\n",
      "        [inf, inf, inf]])\n",
      "tensor([[nan, nan, nan],\n",
      "        [nan, nan, nan],\n",
      "        [nan, nan, nan]])\n",
      "nan\n",
      "tensor([[nan, nan, nan],\n",
      "        [nan, nan, nan],\n",
      "        [nan, nan, nan]])\n",
      "tensor([[nan, nan, nan],\n",
      "        [nan, nan, nan],\n",
      "        [nan, nan, nan]])\n",
      "tensor([[nan, nan, nan],\n",
      "        [nan, nan, nan],\n",
      "        [nan, nan, nan]])\n",
      "tensor([[nan, nan, nan],\n",
      "        [nan, nan, nan],\n",
      "        [nan, nan, nan]])\n",
      "\n",
      "**************\n",
      "tensor([[nan, nan, nan],\n",
      "        [nan, nan, nan],\n",
      "        [nan, nan, nan]])\n",
      "tensor([[nan, nan, nan],\n",
      "        [nan, nan, nan],\n",
      "        [nan, nan, nan]])\n"
     ]
    },
    {
     "name": "stderr",
     "output_type": "stream",
     "text": [
      "/home/paul/python/miniconda3/envs/dl/lib/python3.7/site-packages/matplotlib/image.py:395: UserWarning: Warning: converting a masked element to nan.\n",
      "  dv = (np.float64(self.norm.vmax) -\n",
      "/home/paul/python/miniconda3/envs/dl/lib/python3.7/site-packages/matplotlib/image.py:396: UserWarning: Warning: converting a masked element to nan.\n",
      "  np.float64(self.norm.vmin))\n",
      "/home/paul/python/miniconda3/envs/dl/lib/python3.7/site-packages/matplotlib/image.py:403: UserWarning: Warning: converting a masked element to nan.\n",
      "  a_min = np.float64(newmin)\n",
      "/home/paul/python/miniconda3/envs/dl/lib/python3.7/site-packages/matplotlib/image.py:408: UserWarning: Warning: converting a masked element to nan.\n",
      "  a_max = np.float64(newmax)\n",
      "/home/paul/python/miniconda3/envs/dl/lib/python3.7/site-packages/matplotlib/colors.py:918: UserWarning: Warning: converting a masked element to nan.\n",
      "  dtype = np.min_scalar_type(value)\n",
      "/home/paul/python/miniconda3/envs/dl/lib/python3.7/site-packages/numpy/ma/core.py:718: UserWarning: Warning: converting a masked element to nan.\n",
      "  data = np.array(a, copy=False, subok=subok)\n"
     ]
    },
    {
     "data": {
      "image/png": "[encoded data removed]",
      "text/plain": [
       "<Figure size 432x288 with 1 Axes>"
      ]
     },
     "metadata": {
      "needs_background": "light"
     },
     "output_type": "display_data"
    }
   ],
   "source": [
    "nw=myNetwork()\n",
    "nw.add_layer('relu',(3,3),0)\n",
    "nw.add_layer('relu',(3,3),0)\n",
    "\n",
    "x=tensor([1,2,-1],dtype=float32)\n",
    "y=tensor([2,4,0],dtype=float32)\n",
    "act=nw.forward(x)\n",
    "err=nw.err(y,act[-1])\n",
    "nw.backward(err,act)\n",
    "err_lst=[]\n",
    "for i in range(5):\n",
    "    act=nw.forward(x)\n",
    "    err=nw.err(y,act[-1])\n",
    "    print(err.item())\n",
    "    err_lst.append(err.item())\n",
    "    nw.backward(err,act)\n",
    "nw.weights_as_image()\n",
    "#plt.plot(err_lst)\n",
    "nw.weights_values()"
   ]
  },
  {
   "cell_type": "code",
   "execution_count": 114,
   "metadata": {},
   "outputs": [
    {
     "ename": "TypeError",
     "evalue": "forward() missing 1 required positional argument: 'y'",
     "output_type": "error",
     "traceback": [
      "\u001b[0;31m---------------------------------------------------------------------------\u001b[0m",
      "\u001b[0;31mTypeError\u001b[0m                                 Traceback (most recent call last)",
      "\u001b[0;32m<ipython-input-114-483549fc531e>\u001b[0m in \u001b[0;36m<module>\u001b[0;34m\u001b[0m\n\u001b[1;32m      6\u001b[0m \u001b[0mtest\u001b[0m\u001b[0;34m.\u001b[0m\u001b[0madd_layer\u001b[0m\u001b[0;34m(\u001b[0m\u001b[0;34m'relu'\u001b[0m\u001b[0;34m,\u001b[0m\u001b[0;34m(\u001b[0m\u001b[0;36m25\u001b[0m\u001b[0;34m,\u001b[0m\u001b[0;36m2\u001b[0m\u001b[0;34m)\u001b[0m\u001b[0;34m,\u001b[0m\u001b[0;36m1\u001b[0m\u001b[0;34m)\u001b[0m\u001b[0;34m\u001b[0m\u001b[0;34m\u001b[0m\u001b[0m\n\u001b[1;32m      7\u001b[0m \u001b[0mx\u001b[0m\u001b[0;34m=\u001b[0m\u001b[0mtensor\u001b[0m\u001b[0;34m(\u001b[0m\u001b[0;34m[\u001b[0m\u001b[0;36m1\u001b[0m\u001b[0;34m,\u001b[0m\u001b[0;36m2\u001b[0m\u001b[0;34m]\u001b[0m\u001b[0;34m,\u001b[0m\u001b[0mdtype\u001b[0m\u001b[0;34m=\u001b[0m\u001b[0mfloat32\u001b[0m\u001b[0;34m)\u001b[0m\u001b[0;34m\u001b[0m\u001b[0;34m\u001b[0m\u001b[0m\n\u001b[0;32m----> 8\u001b[0;31m \u001b[0mtest\u001b[0m\u001b[0;34m.\u001b[0m\u001b[0mforward\u001b[0m\u001b[0;34m(\u001b[0m\u001b[0mx\u001b[0m\u001b[0;34m)\u001b[0m\u001b[0;34m\u001b[0m\u001b[0;34m\u001b[0m\u001b[0m\n\u001b[0m",
      "\u001b[0;31mTypeError\u001b[0m: forward() missing 1 required positional argument: 'y'"
     ]
    }
   ],
   "source": [
    "test=myNetwork()\n",
    "test.add_layer('tanh',(2,25),1)\n",
    "test.add_layer('tanh',(25,25),1)\n",
    "test.add_layer('tanh',(25,25),1)\n",
    "test.add_layer('tanh',(25,25),1)\n",
    "test.add_layer('relu',(25,2),1)\n",
    "x=tensor([1,2],dtype=float32)\n",
    "y=tensor([1,5],dtype=float32)\n",
    "test.forward(x)"
   ]
  }
 ],
 "metadata": {
  "kernelspec": {
   "display_name": "Python 3",
   "language": "python",
   "name": "python3"
  },
  "language_info": {
   "codemirror_mode": {
    "name": "ipython",
    "version": 3
   },
   "file_extension": ".py",
   "mimetype": "text/x-python",
   "name": "python",
   "nbconvert_exporter": "python",
   "pygments_lexer": "ipython3",
   "version": "3.7.2"
  }
 },
 "nbformat": 4,
 "nbformat_minor": 2
}
