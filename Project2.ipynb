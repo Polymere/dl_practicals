{
 "cells": [
  {
   "cell_type": "markdown",
   "metadata": {},
   "source": [
    "# Project 2: Mini deep-learning framework\n",
    "\n",
    "https://fleuret.org/ee559/ee559-miniprojects.pdf\n",
    "    \n",
    "https://www.overleaf.com/8773141819qyxryzqggdnn"
   ]
  },
  {
   "cell_type": "code",
   "execution_count": 16,
   "metadata": {},
   "outputs": [],
   "source": [
    "from torch import tensor,set_grad_enabled,empty\n",
    "set_grad_enabled(False);"
   ]
  },
  {
   "cell_type": "code",
   "execution_count": 5,
   "metadata": {},
   "outputs": [
    {
     "data": {
      "text/plain": [
       "tensor([1, 1])"
      ]
     },
     "execution_count": 5,
     "metadata": {},
     "output_type": "execute_result"
    }
   ],
   "source": [
    "t=tensor([-1,1])\n",
    "t.rel"
   ]
  },
  {
   "cell_type": "code",
   "execution_count": 30,
   "metadata": {},
   "outputs": [],
   "source": [
    "class myNetwork:\n",
    "    def __init__(self):\n",
    "        self.layers=[]\n",
    "        self.weights=[]\n",
    "    def add_layer(self,activation,input_shape,bias_val):\n",
    "        \"\"\"if len(sinput_shape!=self.layers[:-1][2]:\n",
    "            print(\"Input shape of layer #\",len(self.layers)+1,\"=\",input_shape,\\\n",
    "                 \"\\nOutput shape of layer #\",len(self.layers),\"=\",self.layers[:-1][2])\n",
    "            raise ValueError\"\"\"\n",
    "        self.layers.append((activation,\n",
    "                            self._init_weights(input_shape),\n",
    "                           self._init_bias(bias_val)))\n",
    "    \n",
    "    def _init_weights(self,sz):\n",
    "        return empty(sz)\n",
    "    def _init_bias(self,bias_val):\n",
    "        return bias_val\n",
    "    def output(self,x):\n",
    "        prev_input=x\n",
    "        for lay in self.layers:\n",
    "            prev_input=self._lay_output(prev_input,lay[1],lay[2],lay[0])\n",
    "        return prev_input\n",
    "    def _lay_output(self,prev_input,weights,bias,act):\n",
    "        if act==\"relu\":\n",
    "            print(prev_input)\n",
    "            return min((prev_input*weights.sum()+bias).max(),1)\n",
    "        elif act==\"tanh\":\n",
    "            return (prev_input*weights.sum()+bias).tanh()\n",
    "                          "
   ]
  },
  {
   "cell_type": "code",
   "execution_count": 31,
   "metadata": {},
   "outputs": [
    {
     "ename": "TypeError",
     "evalue": "'builtin_function_or_method' object is not subscriptable",
     "output_type": "error",
     "traceback": [
      "\u001b[0;31m---------------------------------------------------------------------------\u001b[0m",
      "\u001b[0;31mTypeError\u001b[0m                                 Traceback (most recent call last)",
      "\u001b[0;32m<ipython-input-31-fc229568f9b5>\u001b[0m in \u001b[0;36m<module>\u001b[0;34m\u001b[0m\n\u001b[1;32m      1\u001b[0m \u001b[0mnw\u001b[0m\u001b[0;34m=\u001b[0m\u001b[0mmyNetwork\u001b[0m\u001b[0;34m(\u001b[0m\u001b[0;34m)\u001b[0m\u001b[0;34m\u001b[0m\u001b[0;34m\u001b[0m\u001b[0m\n\u001b[1;32m      2\u001b[0m \u001b[0mnw\u001b[0m\u001b[0;34m.\u001b[0m\u001b[0madd_layer\u001b[0m\u001b[0;34m(\u001b[0m\u001b[0;34m'relu'\u001b[0m\u001b[0;34m,\u001b[0m\u001b[0;36m2\u001b[0m\u001b[0;34m,\u001b[0m\u001b[0;36m2\u001b[0m\u001b[0;34m)\u001b[0m\u001b[0;34m\u001b[0m\u001b[0;34m\u001b[0m\u001b[0m\n\u001b[0;32m----> 3\u001b[0;31m \u001b[0mnw\u001b[0m\u001b[0;34m.\u001b[0m\u001b[0moutput\u001b[0m\u001b[0;34m(\u001b[0m\u001b[0mtensor\u001b[0m\u001b[0;34m[\u001b[0m\u001b[0;36m1\u001b[0m\u001b[0;34m,\u001b[0m\u001b[0;36m2\u001b[0m\u001b[0;34m,\u001b[0m\u001b[0;36m3\u001b[0m\u001b[0;34m]\u001b[0m\u001b[0;34m)\u001b[0m\u001b[0;34m\u001b[0m\u001b[0;34m\u001b[0m\u001b[0m\n\u001b[0m",
      "\u001b[0;31mTypeError\u001b[0m: 'builtin_function_or_method' object is not subscriptable"
     ]
    }
   ],
   "source": [
    "nw=myNetwork()\n",
    "nw.add_layer('relu',2,2)\n",
    "nw.output(tensor[1,2,3])"
   ]
  }
 ],
 "metadata": {
  "kernelspec": {
   "display_name": "Python 3",
   "language": "python",
   "name": "python3"
  },
  "language_info": {
   "codemirror_mode": {
    "name": "ipython",
    "version": 3
   },
   "file_extension": ".py",
   "mimetype": "text/x-python",
   "name": "python",
   "nbconvert_exporter": "python",
   "pygments_lexer": "ipython3",
   "version": "3.7.2"
  }
 },
 "nbformat": 4,
 "nbformat_minor": 2
}
